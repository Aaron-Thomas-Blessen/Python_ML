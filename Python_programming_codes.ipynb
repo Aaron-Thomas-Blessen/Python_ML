{
  "nbformat": 4,
  "nbformat_minor": 0,
  "metadata": {
    "colab": {
      "provenance": [],
      "authorship_tag": "ABX9TyNw2y279zXnwT+9O0c+DnTc",
      "include_colab_link": true
    },
    "kernelspec": {
      "name": "python3",
      "display_name": "Python 3"
    },
    "language_info": {
      "name": "python"
    }
  },
  "cells": [
    {
      "cell_type": "markdown",
      "metadata": {
        "id": "view-in-github",
        "colab_type": "text"
      },
      "source": [
        "<a href=\"https://colab.research.google.com/github/Aaron-Thomas-Blessen/Python_ML/blob/main/Python_programming_codes.ipynb\" target=\"_parent\"><img src=\"https://colab.research.google.com/assets/colab-badge.svg\" alt=\"Open In Colab\"/></a>"
      ]
    },
    {
      "cell_type": "markdown",
      "source": [
        ">## PROGRAM TO FIND THE LARGEST NUMBER\n",
        "- **Step1** ENTER THE VALUE\n",
        "- **Step2** CHECKTHE LARGEST NUMBER USING `if-elif-else`\n",
        "- **Step3** PRINT THE LARGEST NUMBER"
      ],
      "metadata": {
        "id": "xUH5yCj6A1rC"
      }
    },
    {
      "cell_type": "code",
      "execution_count": null,
      "metadata": {
        "id": "j_DvVdoS78cM"
      },
      "outputs": [],
      "source": [
        "\"\"\"\n",
        "# Python program to find the largest number among the three input numbers\n",
        "\"\"\"\n",
        "num1 = 40\n",
        "num2 = 24\n",
        "num3 = 32\n",
        "#uncomment following lines to take three numbers from user\n",
        "num1 = float(input(\"Enter first number: \"))\n",
        "num2 = float(input(\"Enter second number: \"))\n",
        "num3 = float(input(\"Enter third number: \"))\n",
        "if (num1 >= num2) and (num1 >= num3):\n",
        "   largest = num1\n",
        "elif (num2 >= num1) and (num2 >= num3):\n",
        "   largest = num2\n",
        "else:\n",
        "   largest = num3\n",
        "print(\"The largest number is\", largest)"
      ]
    },
    {
      "cell_type": "markdown",
      "source": [
        ">## MULTIPLICATION TABLE\n",
        "- **STEP1**   ENTER THE NUMBER\n",
        "- **STEP2**   PRINT THE TABLES USING `for-loop`"
      ],
      "metadata": {
        "id": "Zj5jxhG2Chxw"
      }
    },
    {
      "cell_type": "code",
      "source": [
        "# To take input from the user\n",
        "num = int(input(\"Display multiplication table of? \"))\n",
        "\n",
        "# Iterate 10 times from i = 1 to 10\n",
        "for i in range(1, 11):\n",
        "   print(i, 'x', num, '=', num*i)"
      ],
      "metadata": {
        "id": "IR4kpSCICfRZ"
      },
      "execution_count": null,
      "outputs": []
    },
    {
      "cell_type": "markdown",
      "source": [
        ">## SIGN OF A NUMBER\n",
        "- **STEP1** ENTER THE NUMBER\n",
        "- **STEP2** CHECK ITS SIGN USING `if-elif-else`\n",
        "- **STEP3** PRINT THE SIGN"
      ],
      "metadata": {
        "id": "EzmptV9jDULg"
      }
    },
    {
      "cell_type": "code",
      "source": [
        "num = float(input(\"Enter a number: \"))\n",
        "if num > 0:\n",
        "   print(\"Positive number\")\n",
        "elif num == 0:\n",
        "   print(\"Zero\")\n",
        "else:\n",
        "   print(\"Negative number\")"
      ],
      "metadata": {
        "id": "mTEmrabPEStw"
      },
      "execution_count": null,
      "outputs": []
    },
    {
      "cell_type": "markdown",
      "source": [
        ">## REPLACE WORD\n",
        "- **STEP1** ENTER THE STRING\n",
        "- **STEP2** ENTER THE WORD YOU WANT TO REPLACE\n",
        "- **STEP3** ENTER THE WORD YOU WANT TO REPLACE IT WITH\n",
        "- **STEP4** REPLACE THE WORD USING `replace()` IN `PYTHON` \n",
        "- `str.replace(old,new)`"
      ],
      "metadata": {
        "id": "41nTLqJ4Etdo"
      }
    },
    {
      "cell_type": "code",
      "source": [
        "string=input(\"Enter the string\")\n",
        "word=input(\"enter the word you wanna replace\")\n",
        "word_rep=input(\"enter the word you wanna replace it with\")\n",
        "new_str=string.replace(word,word_rep)\n",
        "print(new_str)"
      ],
      "metadata": {
        "colab": {
          "base_uri": "https://localhost:8080/"
        },
        "id": "ahCBA5XVFW1g",
        "outputId": "7a2e8c00-7691-4507-f3f6-55bc4b6e7786"
      },
      "execution_count": 1,
      "outputs": [
        {
          "output_type": "stream",
          "name": "stdout",
          "text": [
            "Enter the stringexcuse me my bag is in my bag and bag of things\n",
            "enter the word you wanna replacebag\n",
            "enter the word you wanna replace it withchad\n",
            "excuse me my chad is in my chad and chad of things\n"
          ]
        }
      ]
    },
    {
      "cell_type": "markdown",
      "source": [
        ">## REMOVE WORD\n",
        "- **STEP1** ENTER THE STRING\n",
        "- **STEP2** ENTER THE WORD YOU WANT TO REMOVE\n",
        "- **STEP3** REPLACE THE WORD USING `replace()` IN `PYTHON` \n",
        "- `str.replace(word,\"\")`"
      ],
      "metadata": {
        "id": "9_m0aQbMHROg"
      }
    },
    {
      "cell_type": "code",
      "source": [
        "string=input(\"Enter the string\")\n",
        "word=input(\"enter the word you wanna remove\")\n",
        "new_str=string.replace(word,\"\")\n",
        "print(new_str)"
      ],
      "metadata": {
        "colab": {
          "base_uri": "https://localhost:8080/"
        },
        "id": "FPNfNi61HgOB",
        "outputId": "4a569bb7-4e82-4602-8c80-b3a3891c3cc0"
      },
      "execution_count": 3,
      "outputs": [
        {
          "output_type": "stream",
          "name": "stdout",
          "text": [
            "Enter the stringmy my dead dead\n",
            "enter the word you wanna removedead\n",
            "my my  \n"
          ]
        }
      ]
    },
    {
      "cell_type": "markdown",
      "source": [
        ">## CHECK ATLEAST ONE OCCURANCE OF A WORD IN A STRING\n",
        "- **STEP1** INPUT THE LIST AND THE STRING\n",
        "- **STEP2** CONVERT LIST TO SET USING `set(list)`\n",
        "- **STEP3** SPLIT THE STRING TO ATTRIBUTES IN LIST USING `string.split()`\n",
        "- **STEP4** CHECK IF THERE IS AN INTERSECTION OF THE TWO USING `set.intersection(set/list)`\n",
        "- **STEP5** IF THERE IS INTERSECTION PRINT \"FOUND\""
      ],
      "metadata": {
        "id": "w0R0FMx4J7lo"
      }
    },
    {
      "cell_type": "code",
      "source": [
        "# program to check atleat one occurance of keywords\n",
        "\n",
        "keyword_list = ['motorcycle', 'bike', 'bicycle', 'dirtbike', \"long\"]\n",
        "all_text = 'The bicycle is bicycle a new one without shocking the entire community'\n",
        "SET=set(keyword_list)\n",
        "LIST=all_text.split()\n",
        "if SET.intersection(LIST):\n",
        "     print(\"Found One\")"
      ],
      "metadata": {
        "colab": {
          "base_uri": "https://localhost:8080/"
        },
        "id": "GeLvC02-LvL5",
        "outputId": "e17ea41b-5cbb-4f15-f53f-22bbbe883c7b"
      },
      "execution_count": 4,
      "outputs": [
        {
          "output_type": "stream",
          "name": "stdout",
          "text": [
            "Found One\n"
          ]
        }
      ]
    },
    {
      "cell_type": "markdown",
      "source": [
        ">## DISPLAY EVEN AND ODD MEMBERS IN A TUPLE\n",
        "- **STEP1** ENTER THE TUPLE\n",
        "- **STEP2** FIND THE EVEN AND ODD MEMBERS OF THE TUPLE USING `slice []` METHOD\n",
        "- **STEP3** PRINT THE VALUES\n"
      ],
      "metadata": {
        "id": "HWE09RYcN5Jg"
      }
    },
    {
      "cell_type": "code",
      "source": [
        "\"\"\"\n",
        "Python Program:\n",
        " Using slice [] operator to iterate over a specific parts of a tuple to print odd and even members\n",
        "\"\"\"\n",
        "even=[];odd=[]\n",
        "tuple_created = (\"p\", \"r\", \"o\", \"g\", \"r\", \"a\", \"m\", \"i\", \"z\")\n",
        "for char in tuple_created[ :  : 2]:\n",
        "   even.append(char)\n",
        "for char in tuple_created[1 :  : 2]:\n",
        "   odd.append(char)\n",
        "print(\"Even members: \",even,\"\\nOdd members: \",odd)\n"
      ],
      "metadata": {
        "id": "dwjNGGKvOxlv"
      },
      "execution_count": null,
      "outputs": []
    }
  ]
}