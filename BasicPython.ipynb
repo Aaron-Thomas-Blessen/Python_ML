{
  "nbformat": 4,
  "nbformat_minor": 0,
  "metadata": {
    "colab": {
      "provenance": [],
      "authorship_tag": "ABX9TyOFSlU0sqbJpCum/8CVEgRj",
      "include_colab_link": true
    },
    "kernelspec": {
      "name": "python3",
      "display_name": "Python 3"
    },
    "language_info": {
      "name": "python"
    }
  },
  "cells": [
    {
      "cell_type": "markdown",
      "metadata": {
        "id": "view-in-github",
        "colab_type": "text"
      },
      "source": [
        "<a href=\"https://colab.research.google.com/github/Aaron-Thomas-Blessen/Python_ML/blob/main/BasicPython.ipynb\" target=\"_parent\"><img src=\"https://colab.research.google.com/assets/colab-badge.svg\" alt=\"Open In Colab\"/></a>"
      ]
    },
    {
      "cell_type": "markdown",
      "source": [
        "# Introduction to `Python`\n",
        "First Program"
      ],
      "metadata": {
        "id": "7TI1eV537KXS"
      }
    },
    {
      "cell_type": "code",
      "source": [
        "print(\"Hello\")"
      ],
      "metadata": {
        "colab": {
          "base_uri": "https://localhost:8080/"
        },
        "id": "hwnBYuEE74Y5",
        "outputId": "64f7cb63-fea7-4205-a6a4-79488154530f"
      },
      "execution_count": null,
      "outputs": [
        {
          "output_type": "stream",
          "name": "stdout",
          "text": [
            "Hello\n"
          ]
        }
      ]
    },
    {
      "cell_type": "markdown",
      "source": [
        ">Program to assign an integer and display"
      ],
      "metadata": {
        "id": "edAI-5mV9Pfp"
      }
    },
    {
      "cell_type": "code",
      "source": [
        "a=10\n",
        "print(\"Value of a is\",a)"
      ],
      "metadata": {
        "colab": {
          "base_uri": "https://localhost:8080/"
        },
        "id": "fLy8TFu-8C_K",
        "outputId": "b951682c-19b8-4851-b996-8dfb863c374a"
      },
      "execution_count": null,
      "outputs": [
        {
          "output_type": "stream",
          "name": "stdout",
          "text": [
            "Value of a is 10\n"
          ]
        }
      ]
    },
    {
      "cell_type": "markdown",
      "source": [
        ">Program to find the sum of two integers"
      ],
      "metadata": {
        "id": "ZT-8YKOB9xtA"
      }
    },
    {
      "cell_type": "code",
      "source": [
        "a=10\n",
        "b=20\n",
        "print(\"the sum of\",a,\"and\",b,\"is\",a+b)"
      ],
      "metadata": {
        "colab": {
          "base_uri": "https://localhost:8080/"
        },
        "id": "w1pzfarS9lKI",
        "outputId": "7dca336c-fae3-4dd4-dd27-fd604c0352db"
      },
      "execution_count": null,
      "outputs": [
        {
          "output_type": "stream",
          "name": "stdout",
          "text": [
            "the sum of 10 and 20 is 30\n"
          ]
        }
      ]
    },
    {
      "cell_type": "markdown",
      "source": [
        ">Read two numbers and find the sum"
      ],
      "metadata": {
        "id": "ZWMNc96m-ceP"
      }
    },
    {
      "cell_type": "code",
      "source": [
        "a=int(input(\"enter the first number\"))    #here input function takes valuse as strings      int() function cast it to integer\n",
        "b=int(input(\"Enter the second number\"))    \n",
        "#Displaying a and b\n",
        "print(\"The sum of\",a,\"and\",b,\"is\",a+b)"
      ],
      "metadata": {
        "colab": {
          "base_uri": "https://localhost:8080/"
        },
        "id": "7LpM9AZO-gIQ",
        "outputId": "929e3561-3721-49f9-b3c3-41599be7ea31"
      },
      "execution_count": null,
      "outputs": [
        {
          "output_type": "stream",
          "name": "stdout",
          "text": [
            "enter the first number5\n",
            "Enter the second number6\n",
            "The sum of 5 and 6 is 11\n"
          ]
        }
      ]
    }
  ]
}